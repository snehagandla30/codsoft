{
  "nbformat": 4,
  "nbformat_minor": 0,
  "metadata": {
    "colab": {
      "provenance": [],
      "authorship_tag": "ABX9TyP01maLbMcFc8dCjm2eCmN7",
      "include_colab_link": true
    },
    "kernelspec": {
      "name": "python3",
      "display_name": "Python 3"
    },
    "language_info": {
      "name": "python"
    }
  },
  "cells": [
    {
      "cell_type": "markdown",
      "metadata": {
        "id": "view-in-github",
        "colab_type": "text"
      },
      "source": [
        "<a href=\"https://colab.research.google.com/github/snehagandla30/codsoft/blob/main/ML%20Projects/Customer_Churn_Prediction.ipynb\" target=\"_parent\"><img src=\"https://colab.research.google.com/assets/colab-badge.svg\" alt=\"Open In Colab\"/></a>"
      ]
    },
    {
      "cell_type": "code",
      "execution_count": null,
      "metadata": {
        "id": "vBo3TFzOgVJM"
      },
      "outputs": [],
      "source": [
        "from google.colab import files\n",
        "uploaded = files.upload()"
      ]
    },
    {
      "cell_type": "code",
      "source": [
        "# Step 1: Import necessary libraries\n",
        "import pandas as pd\n",
        "import numpy as np\n",
        "from sklearn.model_selection import train_test_split\n",
        "from sklearn.preprocessing import StandardScaler, LabelEncoder\n",
        "from sklearn.linear_model import LogisticRegression\n",
        "from sklearn.ensemble import RandomForestClassifier\n",
        "from sklearn.metrics import accuracy_score, confusion_matrix, classification_report\n",
        "\n",
        "# Step 2: Load the dataset\n",
        "data = pd.read_csv('Churn_Modelling.csv')\n",
        "\n",
        "# Step 3: Check for any missing values\n",
        "print(data.isnull().sum())\n",
        "\n",
        "# Step 4: Preprocessing the data\n",
        "\n",
        "# Drop irrelevant coloumns\n",
        "# The keyword argument should be 'columns', not 'coloumns'\n",
        "data = data.drop(columns=['RowNumber', 'CustomerId', 'Surname'])\n",
        "\n",
        "# Encode categorical variables (Geography, Gender)\n",
        "labelencoder = LabelEncoder()\n",
        "data['Geography'] = labelencoder.fit_transform(data['Geography'])\n",
        "data['Gender'] = labelencoder.fit_transform(data['Gender'])\n",
        "\n",
        "# Step 5: Split the data into features (X) and target variable (y)\n",
        "X = data.drop(columns=['Exited'])\n",
        "y = data['Exited']\n",
        "\n",
        "# Step 6: Split the dataset into training and test sets (80% train, 20% test)\n",
        "X_train, X_test, y_train, y_test = train_test_split(X, y, test_size=0.2, random_state=42)\n",
        "\n",
        "# Step 7: Standardize the features\n",
        "scaler = StandardScaler()\n",
        "X_train = scaler.fit_transform(X_train)\n",
        "X_test = scaler.transform(X_test)\n",
        "\n",
        "#Step 8: Train models\n",
        "\n",
        "# Logistics Regression Model\n",
        "log_reg_model = LogisticRegression(random_state=42)\n",
        "log_reg_model.fit(X_train, y_train)\n",
        "\n",
        "# Random Forest Classifier Model\n",
        "rf_model = RandomForestClassifier(random_state=42)\n",
        "rf_model.fit(X_train, y_train)\n",
        "\n",
        "# Step 9: Make predictions\n",
        "log_reg_predictions = log_reg_model.predict(X_test)\n",
        "rf_predictions = rf_model.predict(X_test)\n",
        "\n",
        "# Step 10: Evaluate the models\n",
        "\n",
        "# Logistics Regression Evaluation\n",
        "print(\"Logistics Regression Evaluation:\")\n",
        "print(\"Accuracy:\", accuracy_score(y_test, log_reg_predictions))\n",
        "print(\"Confusion Matrix:\\n\", confusion_matrix(y_test, log_reg_predictions))\n",
        "print(\"Classification Report:\\n\", classification_report(y_test, log_reg_predictions))\n",
        "\n",
        "# Random Forest Evaluation\n",
        "print(\"\\nRandom Forest Evaluation:\")\n",
        "print(\"Accuracy:\", accuracy_score(y_test, rf_predictions))\n",
        "print(\"Confusion Matrix:\\n\", confusion_matrix(y_test, rf_predictions))\n",
        "print(\"Classification Report:\\n\", classification_report(y_test, rf_predictions))\n",
        "\n",
        "# Step 11: Output Predictions\n",
        "print(\"\\nSample of Predictions:\")\n",
        "for idx, row in enumerate(X_test):\n",
        "  print(f\"ID: {y_test.index[idx]}, True Exited: {y_test.iloc[idx]}, Logistic Regression Prediction: {log_reg_predictions[idx]}, Random Forest Prediction: {rf_predictions[idx]}\")"
      ],
      "metadata": {
        "id": "Zu8SFmpmmMvM"
      },
      "execution_count": null,
      "outputs": []
    }
  ]
}