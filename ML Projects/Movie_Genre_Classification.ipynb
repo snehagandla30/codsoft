{
  "nbformat": 4,
  "nbformat_minor": 0,
  "metadata": {
    "colab": {
      "provenance": [],
      "authorship_tag": "ABX9TyMBTH+Y8a0rY2czU7ACQEYU",
      "include_colab_link": true
    },
    "kernelspec": {
      "name": "python3",
      "display_name": "Python 3"
    },
    "language_info": {
      "name": "python"
    }
  },
  "cells": [
    {
      "cell_type": "markdown",
      "metadata": {
        "id": "view-in-github",
        "colab_type": "text"
      },
      "source": [
        "<a href=\"https://colab.research.google.com/github/snehagandla30/codsoft/blob/main/ML%20Projects/Movie_Genre_Classification.ipynb\" target=\"_parent\"><img src=\"https://colab.research.google.com/assets/colab-badge.svg\" alt=\"Open In Colab\"/></a>"
      ]
    },
    {
      "cell_type": "code",
      "source": [
        "from google.colab import files\n",
        "uploaded = files.upload()"
      ],
      "metadata": {
        "id": "c_MxOR4icERS"
      },
      "execution_count": null,
      "outputs": []
    },
    {
      "cell_type": "code",
      "source": [
        "import pandas as pd\n",
        "from sklearn.feature_extraction.text import TfidfVectorizer\n",
        "from sklearn.model_selection import train_test_split\n",
        "from sklearn.preprocessing import LabelEncoder\n",
        "from sklearn.naive_bayes import MultinomialNB  # You can replace this with other classifiers like LogisticRegression or SVM\n",
        "from sklearn.metrics import accuracy_score, classification_report, confusion_matrix\n"
      ],
      "metadata": {
        "id": "yxXUbIdOQEOJ"
      },
      "execution_count": null,
      "outputs": []
    },
    {
      "cell_type": "code",
      "source": [
        "# Load the data\n",
        "train_data = pd.read_csv('train_data.txt', delimiter=' ::: ', header=None, names=['ID', 'TITLE', 'GENRE', 'DESCRIPTION'], engine='python')\n",
        "test_data = pd.read_csv('test_data.txt', delimiter=' ::: ', header=None, names=['ID', 'TITLE', 'DESCRIPTION'], engine='python')\n",
        "test_solution_data = pd.read_csv('test_data_solution.txt', delimiter=' ::: ', header=None, names=['ID', 'TITLE', 'GENRE', 'DESCRIPTION'], engine='python')"
      ],
      "metadata": {
        "id": "tblgVd_Gjg-k"
      },
      "execution_count": null,
      "outputs": []
    },
    {
      "cell_type": "code",
      "source": [
        "# Load the data and fill NaN with empty string\n",
        "train_data = pd.read_csv('train_data.txt', delimiter=' ::: ', header=None, names=['ID', 'TITLE', 'GENRE', 'DESCRIPTION'], engine='python')\n",
        "test_data = pd.read_csv('test_data.txt', delimiter=' ::: ', header=None, names=['ID', 'TITLE', 'DESCRIPTION'], engine='python')\n",
        "test_solution_data = pd.read_csv('test_data_solution.txt', delimiter=' ::: ', header=None, names=['ID', 'TITLE', 'GENRE', 'DESCRIPTION'], engine='python')\n",
        "\n",
        "# Fill NaN values in the 'DESCRIPTION' column with empty strings\n",
        "train_data['DESCRIPTION'].fillna('')\n",
        "test_data['DESCRIPTION'].fillna('')\n",
        "\n",
        "X_train = train_data['DESCRIPTION']\n",
        "y_train = train_data['GENRE']\n",
        "X_test = test_data['DESCRIPTION']\n",
        "y_test = test_solution_data['GENRE']\n",
        "\n",
        "# Create a TF-IDF vectorizer\n",
        "vectorizer = TfidfVectorizer(stop_words='english')\n",
        "\n",
        "# Fit and transform the training data\n",
        "X_train_tfidf = vectorizer.fit_transform(X_train)\n",
        "\n",
        "# Transform the test data\n",
        "X_test_tfidf = vectorizer.transform(X_test)\n",
        "\n",
        "# Fit and transform the training data\n",
        "X_train_tfidf = vectorizer.fit_transform(X_train)\n",
        "\n",
        "# Transform the test data\n",
        "X_test_tfidf = vectorizer.transform(X_test)"
      ],
      "metadata": {
        "id": "X8zQ2-jVkL2_"
      },
      "execution_count": null,
      "outputs": []
    },
    {
      "cell_type": "code",
      "source": [
        "# label encode the genres\n",
        "label_encoder = LabelEncoder()\n",
        "y_train_encoded = label_encoder.fit_transform(y_train)\n",
        "y_test_encoded = label_encoder.transform(y_test)"
      ],
      "metadata": {
        "id": "OSD0C1aVlbXk"
      },
      "execution_count": null,
      "outputs": []
    },
    {
      "cell_type": "code",
      "source": [
        "# Create and train a Naive Bayes model\n",
        "model = MultinomialNB()\n",
        "model.fit(X_train_tfidf, y_train_encoded)"
      ],
      "metadata": {
        "id": "v2wWhCjaliyX"
      },
      "execution_count": null,
      "outputs": []
    },
    {
      "cell_type": "code",
      "source": [
        "# Predict on the test data\n",
        "test_predictions = model.predict(X_test_tfidf)\n",
        "\n",
        "# Decode the numerical labels back to genres\n",
        "predicted_genres = label_encoder.inverse_transform(test_predictions)"
      ],
      "metadata": {
        "id": "3j_BSh0Glph8"
      },
      "execution_count": null,
      "outputs": []
    },
    {
      "cell_type": "code",
      "source": [
        "# Calculate accuracy\n",
        "accuracy = accuracy_score(y_test, test_predictions)\n",
        "print(f'Accuracy: {accuracy * 100:.2f}%')\n",
        "\n",
        "# Classification report\n",
        "print(\"Classification Report:\")\n",
        "print(classification_report(y_test_encoded, test_predictions))\n",
        "\n",
        "# Confusion matrix\n",
        "print('\\nConfusion Matrix:')\n",
        "print(confusion_matrix(y_test_encoded, test_predictions))"
      ],
      "metadata": {
        "id": "rK3vz0Orl8Pv"
      },
      "execution_count": null,
      "outputs": []
    },
    {
      "cell_type": "code",
      "source": [
        "# Save predictions to a CSV file\n",
        "predictions_df = pd.DataFrame({\n",
        "    'ID': test_data['ID'],\n",
        "    'TITLE': test_data['TITLE'],\n",
        "    'True Genre': y_test,\n",
        "    'Predicted Genre': predicted_genres\n",
        "})\n",
        "\n",
        "# Save the DataFrame to a CSV file\n",
        "predictions_df.to_csv('predictions.csv', index=False)\n",
        "print(\"Predictions saved to 'predictions.csv'.\")"
      ],
      "metadata": {
        "id": "89kGtbz2meBc"
      },
      "execution_count": null,
      "outputs": []
    },
    {
      "cell_type": "code",
      "source": [
        "# Print the predictions directly\n",
        "for idx, row in predictions_df.iterrows():\n",
        "    print(f\"ID: {row['ID']}, Title: {row['TITLE']}, True Genre: {row['True Genre']}, Predicted Genre: {row['Predicted Genre']}\")"
      ],
      "metadata": {
        "id": "7UHH7QB6m7s0"
      },
      "execution_count": null,
      "outputs": []
    }
  ]
}