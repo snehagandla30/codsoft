{
  "nbformat": 4,
  "nbformat_minor": 0,
  "metadata": {
    "colab": {
      "provenance": []
    },
    "kernelspec": {
      "name": "python3",
      "display_name": "Python 3"
    },
    "language_info": {
      "name": "python"
    }
  },
  "cells": [
    {
      "cell_type": "code",
      "source": [
        "import pandas as pd\n",
        "\n",
        "# Example synthetic data\n",
        "data = {\n",
        "    'rating': [7.5, 8.2, 6.0, 7.9, 8.5, 6.8, 7.3, 8.1, 7.7, 6.5],\n",
        "    'genre': ['Action', 'Comedy', 'Drama', 'Action', 'Romance', 'Comedy', 'Drama', 'Action', 'Romance', 'Action'],\n",
        "    'director': ['Director1', 'Director2', 'Director3', 'Director1', 'Director2', 'Director3', 'Director1', 'Director2', 'Director3', 'Director1'],\n",
        "    'actors': ['Actor1', 'Action2', 'Action2', 'Actor3', 'Actor1', 'Action4', 'Action1', 'Actor3', 'Action2', 'Action3'] # Corrected the length of the 'actors' list to match other lists\n",
        "}\n",
        "\n",
        "df = pd.DataFrame(data)\n",
        "\n",
        "# Preview the dataset\n",
        "print(df.head())"
      ],
      "metadata": {
        "colab": {
          "base_uri": "https://localhost:8080/"
        },
        "id": "LPP_R_niX6MY",
        "outputId": "7ea28938-d929-4e82-fe23-26206ee36578"
      },
      "execution_count": null,
      "outputs": [
        {
          "output_type": "stream",
          "name": "stdout",
          "text": [
            "   rating    genre   director   actors\n",
            "0     7.5   Action  Director1   Actor1\n",
            "1     8.2   Comedy  Director2  Action2\n",
            "2     6.0    Drama  Director3  Action2\n",
            "3     7.9   Action  Director1   Actor3\n",
            "4     8.5  Romance  Director2   Actor1\n"
          ]
        }
      ]
    },
    {
      "cell_type": "code",
      "source": [
        "from sklearn.feature_extraction.text import CountVectorizer\n",
        "\n",
        "# One-hot encode 'genre' and 'director'\n",
        "df_encoded = pd.get_dummies(df, columns=['genre', 'director'], drop_first=True)\n",
        "\n",
        "# Convert 'actors' into a numeric feature using CounterVectorizer\n",
        "vectorizer = CountVectorizer(tokenizer=lambda x: x.split(', '))\n",
        "actors_matrix = vectorizer.fit_transform(df['actors'])\n",
        "# Convert the actors matrix into a DataFrame\n",
        "actors_df = pd.DataFrame(actors_matrix.toarray(), columns=vectorizer.get_feature_names_out())\n",
        "\n",
        "# Concatentate actors_df with the original dataframe\n",
        "df_encoded = pd.concat([df_encoded, actors_df], axis=1)\n",
        "\n",
        "# Drop the original 'actors' column since it's now encoded\n",
        "df_encoded.drop('actors', axis=1, inplace=True)\n",
        "\n",
        "# Preview the processed data\n",
        "print(df_encoded.head())"
      ],
      "metadata": {
        "colab": {
          "base_uri": "https://localhost:8080/"
        },
        "id": "Wis_UvRnX-lK",
        "outputId": "4444a428-b46b-476f-d473-4cc5d8a23838"
      },
      "execution_count": null,
      "outputs": [
        {
          "output_type": "stream",
          "name": "stdout",
          "text": [
            "   rating  genre_Comedy  genre_Drama  genre_Romance  director_Director2  \\\n",
            "0     7.5         False        False          False               False   \n",
            "1     8.2          True        False          False                True   \n",
            "2     6.0         False         True          False               False   \n",
            "3     7.9         False        False          False               False   \n",
            "4     8.5         False        False           True                True   \n",
            "\n",
            "   director_Director3  action1  action2  action3  action4  actor1  actor3  \n",
            "0               False        0        0        0        0       1       0  \n",
            "1               False        0        1        0        0       0       0  \n",
            "2                True        0        1        0        0       0       0  \n",
            "3               False        0        0        0        0       0       1  \n",
            "4               False        0        0        0        0       1       0  \n"
          ]
        },
        {
          "output_type": "stream",
          "name": "stderr",
          "text": [
            "/usr/local/lib/python3.10/dist-packages/sklearn/feature_extraction/text.py:521: UserWarning: The parameter 'token_pattern' will not be used since 'tokenizer' is not None'\n",
            "  warnings.warn(\n"
          ]
        }
      ]
    },
    {
      "cell_type": "code",
      "source": [
        "from sklearn.model_selection import train_test_split\n",
        "\n",
        "# Features (X) and target (y)\n",
        "X = df_encoded.drop('rating', axis=1)\n",
        "y = df_encoded['rating']\n",
        "\n",
        "# Split the data into training and testing sets (80% training, 20% testing)\n",
        "X_train, X_test, y_train, y_test = train_test_split(X, y, test_size=0.2, random_state=42)"
      ],
      "metadata": {
        "id": "8W89lUbfbQRf"
      },
      "execution_count": null,
      "outputs": []
    },
    {
      "cell_type": "code",
      "source": [
        "from sklearn.linear_model import LinearRegression\n",
        "from sklearn.metrics import mean_squared_error, r2_score\n",
        "\n",
        "# Initialize the Linear Regression model\n",
        "lin_reg_model = LinearRegression()\n",
        "\n",
        "# Train the model\n",
        "lin_reg_model.fit(X_train, y_train)\n",
        "\n",
        "# Make predicitions on the test set\n",
        "y_pred_lin_reg = lin_reg_model.predict(X_test)\n",
        "\n",
        "# Evaluate the model\n",
        "mse_lin_reg = mean_squared_error(y_test, y_pred_lin_reg)\n",
        "r2_lin_reg = r2_score(y_test, y_pred_lin_reg)\n",
        "\n",
        "print(f\"Linear Regression - MSE: {mse_lin_reg:.2f}, R-squared: {r2_lin_reg:.2f}\")"
      ],
      "metadata": {
        "colab": {
          "base_uri": "https://localhost:8080/"
        },
        "id": "7QCtFwrGcTm8",
        "outputId": "c3007888-bfe0-4d4a-bd1c-0bf5652fe50b"
      },
      "execution_count": null,
      "outputs": [
        {
          "output_type": "stream",
          "name": "stdout",
          "text": [
            "Linear Regression - MSE: 1.02, R-squared: -15.25\n"
          ]
        }
      ]
    },
    {
      "cell_type": "code",
      "source": [
        "from sklearn.ensemble import RandomForestRegressor\n",
        "\n",
        "# Initialize the Random Forest Regressor model\n",
        "rf_model = RandomForestRegressor(n_estimators=100, random_state=42)\n",
        "\n",
        "# Train the model\n",
        "rf_model.fit(X_train, y_train)\n",
        "\n",
        "# Make predicitions on the test set\n",
        "y_pred_rf = rf_model.predict(X_test)\n",
        "\n",
        "# Evaluate the model\n",
        "mse_rf = mean_squared_error(y_test, y_pred_rf)\n",
        "r2_rf = r2_score(y_test, y_pred_rf)\n",
        "\n",
        "print(f\"Random Forest Regressor - MSE: {mse_rf:.2f}, R-squared: {r2_rf:.2f}\")\n"
      ],
      "metadata": {
        "colab": {
          "base_uri": "https://localhost:8080/"
        },
        "id": "bait-rAgeUIj",
        "outputId": "a0684b86-86a8-45e4-a1a6-aaeacc33f93a"
      },
      "execution_count": null,
      "outputs": [
        {
          "output_type": "stream",
          "name": "stdout",
          "text": [
            "Random Forest Regressor - MSE: 0.80, R-squared: -11.74\n"
          ]
        }
      ]
    }
  ]
}
